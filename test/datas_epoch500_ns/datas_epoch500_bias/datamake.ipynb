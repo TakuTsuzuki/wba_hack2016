{
 "cells": [
  {
   "cell_type": "code",
   "execution_count": 1,
   "metadata": {
    "collapsed": true
   },
   "outputs": [],
   "source": [
    "import numpy as np"
   ]
  },
  {
   "cell_type": "code",
   "execution_count": 2,
   "metadata": {
    "collapsed": true
   },
   "outputs": [],
   "source": [
    "hoge=np.load(\"predict_image_epoch500_bias.npy\")"
   ]
  },
  {
   "cell_type": "code",
   "execution_count": 3,
   "metadata": {
    "collapsed": false
   },
   "outputs": [
    {
     "data": {
      "text/plain": [
       "(28, 28, 49801)"
      ]
     },
     "execution_count": 3,
     "metadata": {},
     "output_type": "execute_result"
    }
   ],
   "source": [
    "hoge.shape"
   ]
  },
  {
   "cell_type": "code",
   "execution_count": 5,
   "metadata": {
    "collapsed": true
   },
   "outputs": [],
   "source": [
    "data0_100          =hoge[:,:,0:100]\n",
    "data4000_4100 =hoge[:,:,4000:4100]\n",
    "data8000_8100 =hoge[:,:,8000:8100]\n",
    "data12000_12100 =hoge[:,:,12000:12100]\n",
    "data16000_16100 =hoge[:,:,16000:16100]\n",
    "data20000_20100 =hoge[:,:,20000:20100]\n",
    "data24000_24100 =hoge[:,:,24000:24100]\n",
    "data28000_28100 =hoge[:,:,28000:28100]"
   ]
  },
  {
   "cell_type": "code",
   "execution_count": 6,
   "metadata": {
    "collapsed": true
   },
   "outputs": [],
   "source": [
    "np.save(\"0_100\",data0_100 )\n",
    "np.save(\"4000_4100\",data4000_4100 )\n",
    "np.save(\"8000_8100\",data8000_8100 )\n",
    "np.save(\"12000_12100\",data12000_12100 )\n",
    "np.save(\"16000_16100\",data16000_16100 )\n",
    "np.save(\"20000_20100\",data20000_20100 )\n",
    "np.save(\"24000_24100\",data24000_24100 )\n",
    "np.save(\"28000_28100\",data28000_28100 )"
   ]
  },
  {
   "cell_type": "code",
   "execution_count": null,
   "metadata": {
    "collapsed": true
   },
   "outputs": [],
   "source": []
  }
 ],
 "metadata": {
  "kernelspec": {
   "display_name": "Python 2",
   "language": "python",
   "name": "python2"
  },
  "language_info": {
   "codemirror_mode": {
    "name": "ipython",
    "version": 2
   },
   "file_extension": ".py",
   "mimetype": "text/x-python",
   "name": "python",
   "nbconvert_exporter": "python",
   "pygments_lexer": "ipython2",
   "version": "2.7.6"
  }
 },
 "nbformat": 4,
 "nbformat_minor": 1
}
